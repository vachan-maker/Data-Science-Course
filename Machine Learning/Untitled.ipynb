{
 "cells": [
  {
   "cell_type": "code",
   "execution_count": null,
   "id": "955c612e-a06e-4277-bbaa-6591235077b5",
   "metadata": {},
   "outputs": [],
   "source": []
  }
 ],
 "metadata": {
  "kernelspec": {
   "display_name": "",
   "name": ""
  },
  "language_info": {
   "name": ""
  }
 },
 "nbformat": 4,
 "nbformat_minor": 5
}
