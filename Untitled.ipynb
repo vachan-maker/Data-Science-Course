{
 "cells": [
  {
   "cell_type": "markdown",
   "id": "b9d7fc60-41a8-4e1c-93aa-74b99a6f44cd",
   "metadata": {},
   "source": [
    "# Machine Learning"
   ]
  },
  {
   "cell_type": "markdown",
   "id": "e1bd6014-ebd2-4d54-8371-7f313a5cdb62",
   "metadata": {},
   "source": [
    "When building ML solution, some of the questions to ask yourself\n",
    "1. Do I have the relevant data to answer it?\n",
    "2. what is my problem statement\n",
    "3. best way to phrase my porblem  statement as a ML problem\n",
    "4. how will i measure success rate of my prediction"
   ]
  },
  {
   "cell_type": "markdown",
   "id": "b847e4e9-bfd9-434e-ac56-c60145de6c6d",
   "metadata": {},
   "source": [
    "Problem Statement\n",
    "To build a ML model that can learn from the measurements of iris flower whose species it belongs to so that we can predict for a new iris flower"
   ]
  },
  {
   "cell_type": "markdown",
   "id": "f9da7227-a7bd-4294-812c-ad9fd8c6990c",
   "metadata": {},
   "source": [
    "What is given\n",
    "1. Input1: Petal: Length and width in cm\n",
    "2. Input 2: Sepal Length and width (in cm)\n",
    "3. Output: species\n",
    "\n",
    "Since input and output is given: **Supervised Learning**\n"
   ]
  },
  {
   "cell_type": "markdown",
   "id": "845a4d49-dc0e-4afc-8174-19495c2536a6",
   "metadata": {},
   "source": [
    "## Load the dataset"
   ]
  },
  {
   "cell_type": "code",
   "execution_count": null,
   "id": "7869d4ef-4a67-4dfd-a1b6-8a47336d4431",
   "metadata": {},
   "outputs": [],
   "source": [
    "#load the iris dataset\n"
   ]
  }
 ],
 "metadata": {
  "kernelspec": {
   "display_name": "Python 3 (ipykernel)",
   "language": "python",
   "name": "python3"
  },
  "language_info": {
   "codemirror_mode": {
    "name": "ipython",
    "version": 3
   },
   "file_extension": ".py",
   "mimetype": "text/x-python",
   "name": "python",
   "nbconvert_exporter": "python",
   "pygments_lexer": "ipython3",
   "version": "3.11.2"
  }
 },
 "nbformat": 4,
 "nbformat_minor": 5
}
