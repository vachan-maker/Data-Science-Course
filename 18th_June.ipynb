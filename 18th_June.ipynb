{
  "nbformat": 4,
  "nbformat_minor": 0,
  "metadata": {
    "colab": {
      "provenance": [],
      "authorship_tag": "ABX9TyPRqED/ANk9GLLrUwp08Lap",
      "include_colab_link": true
    },
    "kernelspec": {
      "name": "python3",
      "display_name": "Python 3"
    },
    "language_info": {
      "name": "python"
    }
  },
  "cells": [
    {
      "cell_type": "markdown",
      "metadata": {
        "id": "view-in-github",
        "colab_type": "text"
      },
      "source": [
        "<a href=\"https://colab.research.google.com/github/vachan-maker/Data-Science-Course/blob/main/18th_June.ipynb\" target=\"_parent\"><img src=\"https://colab.research.google.com/assets/colab-badge.svg\" alt=\"Open In Colab\"/></a>"
      ]
    },
    {
      "cell_type": "markdown",
      "source": [
        "# NumPy ndarray: A multidimensional array object\n",
        "\n",
        "- Numpy can create n dimensional arrays\n"
      ],
      "metadata": {
        "id": "yZkAHGIGR_FF"
      }
    },
    {
      "cell_type": "code",
      "execution_count": null,
      "metadata": {
        "colab": {
          "base_uri": "https://localhost:8080/"
        },
        "id": "J8lUm5_cNmTo",
        "outputId": "c05b13f5-7f29-477c-b389-1e74c661f3b0"
      },
      "outputs": [
        {
          "output_type": "execute_result",
          "data": {
            "text/plain": [
              "array([1., 1., 1., 1., 1.])"
            ]
          },
          "metadata": {},
          "execution_count": 6
        }
      ],
      "source": [
        "import numpy as np\n",
        "a = np.array([1,2,3,4,5,6]) #converting a list to array\n",
        "a\n",
        "\n",
        "A = np.zeros(3) #one dimensional array with 3 zeroes\n",
        "b = np.ones(5)\n",
        "A\n",
        "b"
      ]
    },
    {
      "cell_type": "code",
      "source": [
        "data1 = [6, 7, 5, '8',1,0] #list  can contain more than one data type\n",
        "arr1 = np.array(data1) #array contains only the same data type\n",
        "arr1\n",
        "\n",
        "print()"
      ],
      "metadata": {
        "colab": {
          "base_uri": "https://localhost:8080/"
        },
        "id": "UzXqmikHO8Fq",
        "outputId": "02441ff2-cf77-42a0-b910-2278aff94d33"
      },
      "execution_count": null,
      "outputs": [
        {
          "output_type": "execute_result",
          "data": {
            "text/plain": [
              "array(['6', '7', '5', '8', '1', '0'], dtype='<U21')"
            ]
          },
          "metadata": {},
          "execution_count": 9
        }
      ]
    },
    {
      "cell_type": "code",
      "source": [
        "print('Dtype:', arr1.dtype)"
      ],
      "metadata": {
        "colab": {
          "base_uri": "https://localhost:8080/"
        },
        "id": "IZNYn-nhVwrQ",
        "outputId": "76c6d5d3-029e-4092-b3f8-12ab7b02c1dc"
      },
      "execution_count": null,
      "outputs": [
        {
          "output_type": "stream",
          "name": "stdout",
          "text": [
            "Dtype: <U21\n"
          ]
        }
      ]
    },
    {
      "cell_type": "code",
      "source": [
        "data2 = [[1,2,3,4], [5,6,7,8], [9,10,11,20]] #three lists in a single list\n",
        "arr2 = np.array(data2)\n",
        "arr2\n",
        "print('Dimensions', arr2.ndim)\n",
        "#how many dimensions are there in this array\n",
        "#shape will tell how many rows and columns\n"
      ],
      "metadata": {
        "colab": {
          "base_uri": "https://localhost:8080/"
        },
        "id": "-DjtPAAMV7iT",
        "outputId": "e802578f-144f-4fe2-9adf-41d7dba5deed"
      },
      "execution_count": null,
      "outputs": [
        {
          "output_type": "stream",
          "name": "stdout",
          "text": [
            "Dimensions 2\n"
          ]
        }
      ]
    },
    {
      "cell_type": "code",
      "source": [
        "np.zeros(10)\n",
        "np.ones((3,6)) # 3 rows with 6 columns\n",
        "np.ones((2,3,2) ) #three dimensional array\n",
        "# First Dim:2\n",
        "# Second Dim: 3\n",
        "# Third Dim:2 entire thing is duplicated again\n"
      ],
      "metadata": {
        "colab": {
          "base_uri": "https://localhost:8080/"
        },
        "id": "cI2MYjekWZ9f",
        "outputId": "9049c59d-cf75-4070-da5c-efd39575ad66"
      },
      "execution_count": null,
      "outputs": [
        {
          "output_type": "execute_result",
          "data": {
            "text/plain": [
              "array([[[1., 1.],\n",
              "        [1., 1.],\n",
              "        [1., 1.]],\n",
              "\n",
              "       [[1., 1.],\n",
              "        [1., 1.],\n",
              "        [1., 1.]]])"
            ]
          },
          "metadata": {},
          "execution_count": 17
        }
      ]
    },
    {
      "cell_type": "markdown",
      "source": [
        "## What is np.arange?\n",
        "\n",
        "for creating an array with a sequence of numbers\n",
        "- start: start value of the sequence\n",
        "- stop: end value(excluded)\n",
        "- step: the difference between each pair\n",
        "- dtype : data type\n",
        "\n",
        "default step size is 1"
      ],
      "metadata": {
        "id": "nTsW2utmYvxN"
      }
    },
    {
      "cell_type": "markdown",
      "source": [],
      "metadata": {
        "id": "aNpTBhMcbjf8"
      }
    },
    {
      "cell_type": "code",
      "source": [
        "s = np.arange(4,200,5)\n",
        "s"
      ],
      "metadata": {
        "colab": {
          "base_uri": "https://localhost:8080/"
        },
        "id": "nlSRRHPoZpLp",
        "outputId": "cf5181f2-116d-421d-f16a-849c12133fa3"
      },
      "execution_count": null,
      "outputs": [
        {
          "output_type": "execute_result",
          "data": {
            "text/plain": [
              "array([  4,   9,  14,  19,  24,  29,  34,  39,  44,  49,  54,  59,  64,\n",
              "        69,  74,  79,  84,  89,  94,  99, 104, 109, 114, 119, 124, 129,\n",
              "       134, 139, 144, 149, 154, 159, 164, 169, 174, 179, 184, 189, 194,\n",
              "       199])"
            ]
          },
          "metadata": {},
          "execution_count": 18
        }
      ]
    },
    {
      "cell_type": "code",
      "source": [
        "arr2 = np.arange(100)\n",
        "arr2"
      ],
      "metadata": {
        "colab": {
          "base_uri": "https://localhost:8080/"
        },
        "id": "Tb0AglT4Z-r0",
        "outputId": "979a6675-4e37-49da-8a61-7e4b5a3da3bc"
      },
      "execution_count": null,
      "outputs": [
        {
          "output_type": "execute_result",
          "data": {
            "text/plain": [
              "array([ 0,  1,  2,  3,  4,  5,  6,  7,  8,  9, 10, 11, 12, 13, 14, 15, 16,\n",
              "       17, 18, 19, 20, 21, 22, 23, 24, 25, 26, 27, 28, 29, 30, 31, 32, 33,\n",
              "       34, 35, 36, 37, 38, 39, 40, 41, 42, 43, 44, 45, 46, 47, 48, 49, 50,\n",
              "       51, 52, 53, 54, 55, 56, 57, 58, 59, 60, 61, 62, 63, 64, 65, 66, 67,\n",
              "       68, 69, 70, 71, 72, 73, 74, 75, 76, 77, 78, 79, 80, 81, 82, 83, 84,\n",
              "       85, 86, 87, 88, 89, 90, 91, 92, 93, 94, 95, 96, 97, 98, 99])"
            ]
          },
          "metadata": {},
          "execution_count": 21
        }
      ]
    },
    {
      "cell_type": "code",
      "source": [
        "arr4 = np.arange(100,150,.5,dtype=float)"
      ],
      "metadata": {
        "id": "gMWyi7LHaukR"
      },
      "execution_count": null,
      "outputs": []
    },
    {
      "cell_type": "markdown",
      "source": [
        "# Linspace\n",
        "np.linspace is another function in the numpy library that generates an array over a specified interval\n",
        "\n",
        "In summary, use linspace when you know the number of points you want, and use arange when you know the step size."
      ],
      "metadata": {
        "id": "0P7SxxLpbkQ-"
      }
    },
    {
      "cell_type": "markdown",
      "source": [],
      "metadata": {
        "id": "bQIdftZLbuAY"
      }
    },
    {
      "cell_type": "code",
      "source": [
        "arr=np.linspace(1,40,5)\n",
        "arr"
      ],
      "metadata": {
        "colab": {
          "base_uri": "https://localhost:8080/"
        },
        "id": "3D3vnDfCb2nP",
        "outputId": "7dbbeb51-4802-4751-8ca8-9fb798537385"
      },
      "execution_count": null,
      "outputs": [
        {
          "output_type": "execute_result",
          "data": {
            "text/plain": [
              "array([ 1.  , 10.75, 20.5 , 30.25, 40.  ])"
            ]
          },
          "metadata": {},
          "execution_count": 24
        }
      ]
    },
    {
      "cell_type": "code",
      "source": [
        "numeric_strings = np.array(['1','2','5'], dtype=np.string_)\n",
        "numeric_strings.astype(float)\n",
        "\n",
        "#convert string to float"
      ],
      "metadata": {
        "colab": {
          "base_uri": "https://localhost:8080/"
        },
        "id": "F1yiqyynd6U_",
        "outputId": "2e220128-a59c-4a80-a856-6daa9a3236ac"
      },
      "execution_count": null,
      "outputs": [
        {
          "output_type": "execute_result",
          "data": {
            "text/plain": [
              "array([1., 2., 5.])"
            ]
          },
          "metadata": {},
          "execution_count": 28
        }
      ]
    },
    {
      "cell_type": "markdown",
      "source": [
        "# Generate random integers\n"
      ],
      "metadata": {
        "id": "ler2fBNnd5w9"
      }
    },
    {
      "cell_type": "code",
      "source": [
        "\n",
        "i = np.random.rand()\n",
        "i"
      ],
      "metadata": {
        "colab": {
          "base_uri": "https://localhost:8080/"
        },
        "id": "Irg6b-TBeutI",
        "outputId": "d27b5325-50f0-4c64-ccc4-1dbf0eef0266"
      },
      "execution_count": null,
      "outputs": [
        {
          "output_type": "execute_result",
          "data": {
            "text/plain": [
              "0.4922300277290017"
            ]
          },
          "metadata": {},
          "execution_count": 31
        }
      ]
    },
    {
      "cell_type": "code",
      "source": [
        "j = np.random.rand(1,10)\n",
        "j"
      ],
      "metadata": {
        "colab": {
          "base_uri": "https://localhost:8080/"
        },
        "id": "iRCLpA7ie6a3",
        "outputId": "d0363a04-e0be-4089-e89d-3f01d995700a"
      },
      "execution_count": null,
      "outputs": [
        {
          "output_type": "execute_result",
          "data": {
            "text/plain": [
              "array([[0.5839178 , 0.10539777, 0.46499464, 0.88959813, 0.61222493,\n",
              "        0.81704399, 0.03703606, 0.73755634, 0.33668359, 0.18395931]])"
            ]
          },
          "metadata": {},
          "execution_count": 32
        }
      ]
    },
    {
      "cell_type": "code",
      "source": [
        "# to generate 5 random numbers\n",
        "r_arr = np.random.rand(5)\n",
        "r_arr"
      ],
      "metadata": {
        "colab": {
          "base_uri": "https://localhost:8080/"
        },
        "id": "dZifFt0YfDRG",
        "outputId": "2cdc280d-8e63-402a-bbb1-3c7a8a8bb5d2"
      },
      "execution_count": null,
      "outputs": [
        {
          "output_type": "execute_result",
          "data": {
            "text/plain": [
              "array([0.10119378, 0.06301686, 0.55093825, 0.90882695, 0.60336668])"
            ]
          },
          "metadata": {},
          "execution_count": 33
        }
      ]
    },
    {
      "cell_type": "code",
      "source": [
        "r_arr = np.random.randint(1,10,size = 5)\n",
        "r_arr"
      ],
      "metadata": {
        "colab": {
          "base_uri": "https://localhost:8080/"
        },
        "id": "UXdtNmeGfQlY",
        "outputId": "33c66d8b-f0a2-4d24-f6ea-a92bc3fe5fe3"
      },
      "execution_count": null,
      "outputs": [
        {
          "output_type": "execute_result",
          "data": {
            "text/plain": [
              "array([5, 6, 4, 9, 2])"
            ]
          },
          "metadata": {},
          "execution_count": 34
        }
      ]
    },
    {
      "cell_type": "code",
      "source": [
        "#generate two dimensional random numbers\n",
        "r_2d = np.random.randint(1, 10, size = (3,3))\n",
        "r_2d"
      ],
      "metadata": {
        "colab": {
          "base_uri": "https://localhost:8080/"
        },
        "id": "rAy4cWHgfX8S",
        "outputId": "1484cf10-00a6-47d7-9f9b-8ad5c9f8d051"
      },
      "execution_count": null,
      "outputs": [
        {
          "output_type": "execute_result",
          "data": {
            "text/plain": [
              "array([[5, 8, 1],\n",
              "       [9, 5, 5],\n",
              "       [4, 1, 3]])"
            ]
          },
          "metadata": {},
          "execution_count": 36
        }
      ]
    },
    {
      "cell_type": "markdown",
      "source": [
        "Learn indexing and splicing of arrays"
      ],
      "metadata": {
        "id": "aBlQNMIggZPr"
      }
    }
  ]
}